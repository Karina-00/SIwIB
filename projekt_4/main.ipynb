{
 "cells": [
  {
   "cell_type": "code",
   "execution_count": 1,
   "id": "initial_id",
   "metadata": {
    "collapsed": true,
    "ExecuteTime": {
     "end_time": "2024-05-03T14:40:39.625095Z",
     "start_time": "2024-05-03T14:40:39.611764Z"
    }
   },
   "outputs": [],
   "source": [
    "import os\n",
    "from dataclasses import dataclass\n",
    "from collections import defaultdict\n",
    "import xml.etree.ElementTree as ET"
   ]
  },
  {
   "cell_type": "markdown",
   "source": [],
   "metadata": {
    "collapsed": false
   },
   "id": "4401aba42bfe25e6"
  },
  {
   "cell_type": "code",
   "outputs": [],
   "source": [
    "DATA_DIR = \"./RNA-Puzzles\"\n",
    "RESULTS_FILENAME = \"filter-results.txt\"\n",
    "N = 100"
   ],
   "metadata": {
    "collapsed": false,
    "ExecuteTime": {
     "end_time": "2024-05-03T14:40:39.630509Z",
     "start_time": "2024-05-03T14:40:39.626103Z"
    }
   },
   "id": "4391d891c1860350",
   "execution_count": 2
  },
  {
   "cell_type": "code",
   "outputs": [],
   "source": [
    "def float_or_none(val: str):\n",
    "    return None if val == \"-\" else float(val)\n",
    "\n",
    "\n",
    "@dataclass\n",
    "class NativeMotive:\n",
    "    name: str\n",
    "    segments_count: int\n",
    "    residues_count: int\n",
    "    nucleotide_ranges: list[str]\n",
    "    sequences: list[str]\n",
    "\n",
    "    @staticmethod\n",
    "    def from_split_line(l: list[str]):\n",
    "        return NativeMotive(\n",
    "            name=l[0],\n",
    "            segments_count=int(l[1]),\n",
    "            residues_count=int(l[2]),\n",
    "            nucleotide_ranges=list(map(lambda x: x.strip(), l[3].split(\",\"))),\n",
    "            sequences=list(map(lambda x: x.strip(), l[4].split(\",\")))\n",
    "        )\n",
    "\n",
    "\n",
    "@dataclass\n",
    "class NucleotideTorAngles:\n",
    "    chain: str\n",
    "    residue_num: int\n",
    "    name: str\n",
    "    alpha: float\n",
    "    beta: float\n",
    "    gamma: float\n",
    "    delta: float\n",
    "    epsilon: float\n",
    "    zeta: float\n",
    "    chi: float\n",
    "\n",
    "    @staticmethod\n",
    "    def from_split_line(l: list[str]):\n",
    "        return NucleotideTorAngles(\n",
    "            chain=l[0],\n",
    "            residue_num=int(l[1]),\n",
    "            name=l[3],\n",
    "            alpha=float_or_none(l[4]),\n",
    "            beta=float_or_none(l[5]),\n",
    "            gamma=float_or_none(l[6]),\n",
    "            delta=float_or_none(l[7]),\n",
    "            epsilon=float_or_none(l[8]),\n",
    "            zeta=float_or_none(l[9]),\n",
    "            chi=float_or_none(l[10])\n",
    "        )\n",
    "    \n",
    "@dataclass\n",
    "class MotivePrediction:\n",
    "    name: str\n",
    "    rmsd: float\n",
    "    nucleotide_tor_angles: list[NucleotideTorAngles]\n",
    "    \n",
    "\n",
    "def get_tor_angles_from_file(filename: str) -> list[NucleotideTorAngles]:\n",
    "    res = []\n",
    "    with open(filename) as target_tor_file:\n",
    "            next(target_tor_file)\n",
    "            for line in target_tor_file:\n",
    "                split_line = line.strip().split(\"\\t\")\n",
    "                try:\n",
    "                    res.append(NucleotideTorAngles.from_split_line(l=split_line))\n",
    "                except ValueError:\n",
    "                    pass\n",
    "    return res\n",
    "    "
   ],
   "metadata": {
    "collapsed": false,
    "ExecuteTime": {
     "end_time": "2024-05-03T14:40:39.678062Z",
     "start_time": "2024-05-03T14:40:39.665518Z"
    }
   },
   "id": "e0a79defcc23c81b",
   "execution_count": 3
  },
  {
   "cell_type": "code",
   "outputs": [
    {
     "ename": "FileNotFoundError",
     "evalue": "[WinError 3] System nie może odnaleźć określonej ścieżki: '.\\\\RNA-Puzzles'",
     "output_type": "error",
     "traceback": [
      "\u001B[1;31m---------------------------------------------------------------------------\u001B[0m",
      "\u001B[1;31mFileNotFoundError\u001B[0m                         Traceback (most recent call last)",
      "Cell \u001B[1;32mIn[4], line 1\u001B[0m\n\u001B[1;32m----> 1\u001B[0m puzzles \u001B[38;5;241m=\u001B[39m \u001B[43mos\u001B[49m\u001B[38;5;241;43m.\u001B[39;49m\u001B[43mlistdir\u001B[49m\u001B[43m(\u001B[49m\u001B[43mos\u001B[49m\u001B[38;5;241;43m.\u001B[39;49m\u001B[43mpath\u001B[49m\u001B[38;5;241;43m.\u001B[39;49m\u001B[43mjoin\u001B[49m\u001B[43m(\u001B[49m\u001B[43mos\u001B[49m\u001B[38;5;241;43m.\u001B[39;49m\u001B[43mcurdir\u001B[49m\u001B[43m,\u001B[49m\u001B[43m \u001B[49m\u001B[43mDATA_DIR\u001B[49m\u001B[43m)\u001B[49m\u001B[43m)\u001B[49m\n",
      "\u001B[1;31mFileNotFoundError\u001B[0m: [WinError 3] System nie może odnaleźć określonej ścieżki: '.\\\\RNA-Puzzles'"
     ]
    }
   ],
   "source": [
    "puzzles = os.listdir(os.path.join(os.curdir, DATA_DIR))"
   ],
   "metadata": {
    "collapsed": false,
    "ExecuteTime": {
     "end_time": "2024-05-03T14:40:41.256187Z",
     "start_time": "2024-05-03T14:40:39.749069Z"
    }
   },
   "id": "b8a468b7cfff9e9a",
   "execution_count": 4
  },
  {
   "cell_type": "code",
   "outputs": [],
   "source": [
    "native_motives = defaultdict(list[NativeMotive])\n",
    "\n",
    "for puzzle in puzzles[:N]:\n",
    "    with open(os.path.join(os.curdir, DATA_DIR, puzzle, RESULTS_FILENAME)) as results_file:\n",
    "        for line in results_file:\n",
    "            split_line = line.strip().split(\"\\t\")\n",
    "            # TODO filter by segments count > 2/3?\n",
    "            native_motives[puzzle].append(\n",
    "                NativeMotive.from_split_line(l=split_line)\n",
    "            )\n"
   ],
   "metadata": {
    "collapsed": false,
    "ExecuteTime": {
     "start_time": "2024-05-03T14:40:41.260195Z"
    }
   },
   "id": "b9c1939a7d372c1c",
   "execution_count": null
  },
  {
   "cell_type": "code",
   "outputs": [],
   "source": [
    "motive_solutions = defaultdict(lambda: defaultdict(dict))\n",
    "for puzzle in puzzles[:N]:\n",
    "    for native_motive in native_motives[puzzle]:\n",
    "        if not all(\n",
    "                [\n",
    "                    os.path.exists(os.path.join(os.curdir, DATA_DIR, puzzle, f'{native_motive.name}-rmsd.xml')),\n",
    "                    os.path.exists(os.path.join(os.curdir, DATA_DIR, puzzle, f'{native_motive.name}.tor'))\n",
    "                ]\n",
    "        ):\n",
    "            continue\n",
    "        \n",
    "        motive_solutions[puzzle][native_motive.name]['native_motive'] = native_motive\n",
    "        motive_solutions[puzzle][native_motive.name]['target_tor_angles'] = get_tor_angles_from_file(os.path.join(os.curdir, DATA_DIR, puzzle, f'{native_motive.name}.tor'))\n",
    "        motive_solutions[puzzle][native_motive.name]['predictions'] = []\n",
    "        pred_files = list(filter(lambda x: x.endswith(\".tor\"), os.listdir(os.path.join(os.curdir, DATA_DIR, puzzle, native_motive.name))))\n",
    "        for pred_file in pred_files:\n",
    "            motive_solutions[puzzle][native_motive.name]['predictions'].append(\n",
    "                MotivePrediction(\n",
    "                    name=pred_file[:-4],\n",
    "                    rmsd=-1,\n",
    "                    nucleotide_tor_angles=get_tor_angles_from_file(os.path.join(os.curdir, DATA_DIR, puzzle, native_motive.name, pred_file))\n",
    "                )\n",
    "            )\n",
    "        xml_tree = ET.parse(os.path.join(os.curdir, DATA_DIR, puzzle, f'{native_motive.name}-rmsd.xml'))\n",
    "        prediction_scores = {s.find('description/filename').text[:-4]: float(s.find('score').text) for s in xml_tree.getroot().findall('structure')}\n",
    "        \n",
    "        for pred in motive_solutions[puzzle][native_motive.name]['predictions']:\n",
    "            pred.rmsd = prediction_scores[pred.name]\n",
    "        "
   ],
   "metadata": {
    "collapsed": false,
    "ExecuteTime": {
     "end_time": "2024-05-03T14:40:41.262200Z",
     "start_time": "2024-05-03T14:40:41.261194Z"
    }
   },
   "id": "57514034a30d32a8",
   "execution_count": null
  },
  {
   "cell_type": "code",
   "outputs": [
    {
     "ename": "NameError",
     "evalue": "name 'motive_solutions' is not defined",
     "output_type": "error",
     "traceback": [
      "\u001B[1;31m---------------------------------------------------------------------------\u001B[0m",
      "\u001B[1;31mNameError\u001B[0m                                 Traceback (most recent call last)",
      "Cell \u001B[1;32mIn[5], line 1\u001B[0m\n\u001B[1;32m----> 1\u001B[0m \u001B[43mmotive_solutions\u001B[49m[\u001B[38;5;124m'\u001B[39m\u001B[38;5;124mpz01\u001B[39m\u001B[38;5;124m'\u001B[39m][\u001B[38;5;124m'\u001B[39m\u001B[38;5;124m1_solution_0_rpr_A_3_G\u001B[39m\u001B[38;5;124m'\u001B[39m]\n",
      "\u001B[1;31mNameError\u001B[0m: name 'motive_solutions' is not defined"
     ]
    }
   ],
   "source": [
    "motive_solutions['pz01']['1_solution_0_rpr_A_3_G']"
   ],
   "metadata": {
    "collapsed": false,
    "ExecuteTime": {
     "end_time": "2024-05-03T14:40:46.455924Z",
     "start_time": "2024-05-03T14:40:46.392524Z"
    }
   },
   "id": "c7976265c398d149",
   "execution_count": 5
  },
  {
   "cell_type": "code",
   "outputs": [],
   "source": [
    "\"\"\"\n",
    "struktura słownika\n",
    "motive_solutions{\n",
    "    puzzle_name: {\n",
    "        motive_name: {\n",
    "            native_motive: NativeMotive() - klasa,\n",
    "            target_tor_angles: list[NucleotideTorAngles()] - lista kątów kolejnych nukleotydów z natywnego motywu,\n",
    "            predictions: [\n",
    "                MotivePrediction(\n",
    "                name=...,\n",
    "                rmsd=...,\n",
    "                nucleotide_tor_angles: list[NucleotideTorAngles()] - lista kątów kolejnych nukleotydów z danej predykcji motywu\n",
    "                ),\n",
    "                ...\n",
    "            ] - lista wszystkich predykcji dla danego motywu\n",
    "        }\n",
    "    }\n",
    "}\n",
    "\"\"\""
   ],
   "metadata": {
    "collapsed": false,
    "ExecuteTime": {
     "end_time": "2024-05-03T14:40:41.267194Z",
     "start_time": "2024-05-03T14:40:41.266194Z"
    }
   },
   "id": "4ddbb8f3edc57b28",
   "execution_count": null
  },
  {
   "cell_type": "markdown",
   "source": [],
   "metadata": {
    "collapsed": false
   },
   "id": "843b393fc5b054fd"
  }
 ],
 "metadata": {
  "kernelspec": {
   "display_name": "Python 3",
   "language": "python",
   "name": "python3"
  },
  "language_info": {
   "codemirror_mode": {
    "name": "ipython",
    "version": 2
   },
   "file_extension": ".py",
   "mimetype": "text/x-python",
   "name": "python",
   "nbconvert_exporter": "python",
   "pygments_lexer": "ipython2",
   "version": "2.7.6"
  }
 },
 "nbformat": 4,
 "nbformat_minor": 5
}
